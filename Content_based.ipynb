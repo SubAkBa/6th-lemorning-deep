{
  "nbformat": 4,
  "nbformat_minor": 0,
  "metadata": {
    "colab": {
      "name": "Content-based",
      "provenance": []
    },
    "kernelspec": {
      "name": "python3",
      "display_name": "Python 3"
    },
    "accelerator": "GPU"
  },
  "cells": [
    {
      "cell_type": "code",
      "metadata": {
        "id": "YEboLVvKVq9I",
        "colab_type": "code",
        "colab": {
          "base_uri": "https://localhost:8080/",
          "height": 190
        },
        "outputId": "2c308941-e40f-4e62-d899-27f3c3ff0f1f"
      },
      "source": [
        "import pandas as pd\n",
        "import numpy as np\n",
        "from sklearn.metrics.pairwise import cosine_similarity\n",
        "from sklearn.feature_extraction.text import TfidfVectorizer\n",
        "\n",
        "df = pd.read_csv(\"https://query.data.world/s/uikepcpffyo2nhig52xxeevdialfl7\")\n",
        "\n",
        "df = df[['Title','Genre','Director','Actors']]\n",
        "df['Total'] = df['Genre'] + \" \" + df['Director'] + \" \" + df['Actors']\n",
        "df['ID'] = df.index\n",
        "\n",
        "df = df[['ID', 'Title', 'Total']]"
      ],
      "execution_count": 32,
      "outputs": [
        {
          "output_type": "stream",
          "text": [
            "   ID  ...                                              Total\n",
            "0   0  ...  Crime, Drama Frank Darabont Tim Robbins, Morga...\n",
            "1   1  ...  Crime, Drama Francis Ford Coppola Marlon Brand...\n",
            "2   2  ...  Crime, Drama Francis Ford Coppola Al Pacino, R...\n",
            "3   3  ...  Action, Crime, Drama Christopher Nolan Christi...\n",
            "4   4  ...  Crime, Drama Sidney Lumet Martin Balsam, John ...\n",
            "\n",
            "[5 rows x 3 columns]\n",
            "{'The Shawshank Redemption': 0, 'The Godfather': 1, 'The Godfather: Part II': 2, 'The Dark Knight': 3, '12 Angry Men': 4, \"Schindler's List\": 5, 'The Lord of the Rings: The Return of the King': 6, 'Pulp Fiction': 7, 'Fight Club': 8, 'The Lord of the Rings: The Fellowship of the Ring': 9, 'Forrest Gump': 10, 'Star Wars: Episode V - The Empire Strikes Back': 11, 'Inception': 12, 'The Lord of the Rings: The Two Towers': 13, \"One Flew Over the Cuckoo's Nest\": 14, 'Goodfellas': 15, 'The Matrix': 16, 'Star Wars: Episode IV - A New Hope': 17, 'Se7en': 18, \"It's a Wonderful Life\": 19, 'The Silence of the Lambs': 20, 'The Usual Suspects': 21, 'Léon: The Professional': 22, 'Saving Private Ryan': 23, 'City Lights': 24, 'Interstellar': 25, 'American History X': 26, 'Modern Times': 27, 'Casablanca': 28, 'The Green Mile': 29, 'Psycho': 30, 'Raiders of the Lost Ark': 31, 'The Pianist': 32, 'Rear Window': 33, 'The Departed': 34, 'Whiplash': 35, 'Terminator 2: Judgment Day': 36, 'Back to the Future': 37, 'Gladiator': 38, 'The Lion King': 39, 'The Prestige': 40, 'Apocalypse Now': 41, 'Memento': 42, 'The Great Dictator': 43, 'Sunset Boulevard': 44, 'Alien': 45, 'Dr. Strangelove or: How I Learned to Stop Worrying and Love the Bomb': 46, 'Paths of Glory': 47, 'Django Unchained': 48, 'The Shining': 49, 'Witness for the Prosecution': 50, 'The Dark Knight Rises': 51, 'WALL·E': 52, 'American Beauty': 53, 'Once Upon a Time in America': 54, 'Aliens': 55, 'Citizen Kane': 56, 'North by Northwest': 57, 'Vertigo': 58, 'Star Wars: Episode VI - Return of the Jedi': 59, 'Braveheart': 60, 'Reservoir Dogs': 61, 'Double Indemnity': 62, 'Requiem for a Dream': 63, 'Lawrence of Arabia': 64, 'The Kid': 65, 'A Clockwork Orange': 66, 'Amadeus': 67, 'To Kill a Mockingbird': 68, 'Eternal Sunshine of the Spotless Mind': 69, \"Singin' in the Rain\": 70, 'Taxi Driver': 71, 'The Sting': 72, 'Toy Story 3': 73, '2001: A Space Odyssey': 74, 'Full Metal Jacket': 75, 'Baby Driver': 76, 'Toy Story': 77, 'Inglourious Basterds': 78, 'Snatch': 79, 'The Apartment': 80, 'All About Eve': 81, 'Monty Python and the Holy Grail': 82, 'Scarface': 83, 'L.A. Confidential': 84, 'Good Will Hunting': 85, 'The Treasure of the Sierra Madre': 86, 'Indiana Jones and the Last Crusade': 87, 'Some Like It Hot': 88, 'Batman Begins': 89, 'Up': 90, 'The Third Man': 91, 'Unforgiven': 92, 'Judgment at Nuremberg': 93, 'Raging Bull': 94, 'The Great Escape': 95, 'Heat': 96, 'Die Hard': 97, 'The Gold Rush': 98, 'Chinatown': 99, 'On the Waterfront': 100, 'Mr. Smith Goes to Washington': 101, 'The General': 102, 'Inside Out': 103, 'The Bridge on the River Kwai': 104, 'Room': 105, 'La La Land': 106, 'Logan': 107, 'Blade Runner': 108, 'Lock, Stock and Two Smoking Barrels': 109, 'Casino': 110, 'A Beautiful Mind': 111, 'The Elephant Man': 112, 'Warrior': 113, 'V for Vendetta': 114, 'The Wolf of Wall Street': 115, 'Dial M for Murder': 116, 'Hacksaw Ridge': 117, 'Gone with the Wind': 118, 'The Message': 119, 'Rebecca': 120, 'Trainspotting': 121, 'The Deer Hunter': 122, 'Cool Hand Luke': 123, 'Gran Torino': 124, 'The Big Lebowski': 125, 'The Thing': 126, 'It Happened One Night': 127, 'Fargo': 128, 'The Sixth Sense': 129, 'Finding Nemo': 130, 'Mary and Max': 131, 'No Country for Old Men': 132, 'How to Train Your Dragon': 133, 'There Will Be Blood': 134, 'Into the Wild': 135, 'Kill Bill: Vol. 1': 136, 'Gone Girl': 137, 'Life of Brian': 138, 'Network': 139, 'Shutter Island': 140, 'In the Name of the Father': 141, 'Rush': 142, 'Hotel Rwanda': 143, 'Platoon': 144, 'Song of the Sea': 145, 'Ben-Hur': 146, 'Stand by Me': 147, \"Hachi: A Dog's Tale\": 148, 'Kind Hearts and Coronets': 149, 'The Maltese Falcon': 150, 'Butch Cassidy and the Sundance Kid': 151, 'The Legend of 1900': 152, 'Spotlight': 153, 'Brief Encounter': 154, 'The Best Years of Our Lives': 155, 'The Grapes of Wrath': 156, '12 Years a Slave': 157, 'The Grand Budapest Hotel': 158, 'Mad Max: Fury Road': 159, 'The Princess Bride': 160, 'What Ever Happened to Baby Jane?': 161, 'Million Dollar Baby': 162, 'Jurassic Park': 163, 'Touch of Evil': 164, 'Spider-Man: Homecoming': 165, 'Before Sunrise': 166, 'The Truman Show': 167, 'Harry Potter and the Deathly Hallows: Part 2': 168, 'Star Wars: The Force Awakens': 169, 'Paris, Texas': 170, 'The Last Picture Show': 171, 'Gandhi': 172, 'Barry Lyndon': 173, 'Rocky': 174, 'Annie Hall': 175, 'Prisoners': 176, 'Donnie Darko': 177, 'Catch Me If You Can': 178, 'The Man Who Shot Liberty Valance': 179, 'Laura': 180, 'Monsters, Inc.': 181, 'The Bourne Ultimatum': 182, 'Cat on a Hot Tin Roof': 183, 'The Wizard of Oz': 184, 'Sleuth': 185, 'Roman Holiday': 186, 'Out of the Past': 187, 'Anatomy of a Murder': 188, \"Who's Afraid of Virginia Woolf?\": 189, 'The Terminator': 190, 'Groundhog Day': 191, 'The Help': 192, 'Strangers on a Train': 193, 'The Night of the Hunter': 194, 'All Quiet on the Western Front': 195, 'Beauty and the Beast': 196, 'Lion': 197, 'Twelve Monkeys': 198, 'Guardians of the Galaxy': 199, 'Dog Day Afternoon': 200, 'Jaws': 201, 'Zootopia': 202, 'Guardians of the Galaxy Vol. 2': 203, 'Pirates of the Caribbean: The Curse of the Black Pearl': 204, 'Before Sunset': 205, 'The Imitation Game': 206, 'Young Frankenstein': 207, 'Stalag 17': 208, 'Dogville': 209, 'Dead Poets Society': 210, 'High Noon': 211, 'Papillon': 212, 'A Streetcar Named Desire': 213, 'Arsenic and Old Lace': 214, 'Sin City': 215, 'The Hustler': 216, 'A Night at the Opera': 217, 'The Killing': 218, 'The Avengers': 219, 'Notorious': 220, 'Harvey': 221, 'The Martian': 222, 'The Exorcist': 223, 'Rio Bravo': 224, 'The Philadelphia Story': 225, 'Rope': 226, 'The Big Sleep': 227, 'Pink Floyd: The Wall': 228, \"The King's Speech\": 229, 'A Christmas Story': 230, 'The Graduate': 231, 'JFK': 232, 'Sling Blade': 233, 'Blood Diamond': 234, 'Magnolia': 235, 'Rain Man': 236, 'The Revenant': 237, 'The Nightmare Before Christmas': 238, 'The Manchurian Candidate': 239, 'Deadpool': 240, 'The Wild Bunch': 241, 'Aladdin': 242, 'Big Fish': 243, 'Patton': 244, 'The Lost Weekend': 245, 'Short Term 12': 246, 'His Girl Friday': 247, 'The Straight Story': 248, 'Slumdog Millionaire': 249}\n"
          ],
          "name": "stdout"
        }
      ]
    },
    {
      "cell_type": "code",
      "metadata": {
        "id": "gKEFtBCtgG-M",
        "colab_type": "code",
        "colab": {
          "base_uri": "https://localhost:8080/",
          "height": 136
        },
        "outputId": "e4729b45-761e-4e1a-e5bc-eb471d990fdc"
      },
      "source": [
        "tfidf = TfidfVectorizer()\n",
        "\n",
        "tfidf_matrix = tfidf.fit_transform(df['Total'])\n",
        "\n",
        "cosine_similarities = cosine_similarity(tfidf_matrix, tfidf_matrix)\n",
        "\n",
        "print(cosine_similarities)"
      ],
      "execution_count": 14,
      "outputs": [
        {
          "output_type": "stream",
          "text": [
            "[[1.         0.03147892 0.03073635 ... 0.00734021 0.00676205 0.00614639]\n",
            " [0.03147892 1.         0.45728632 ... 0.00720954 0.00664167 0.00603697]\n",
            " [0.03073635 0.45728632 1.         ... 0.00703947 0.006485   0.00589456]\n",
            " ...\n",
            " [0.00734021 0.00720954 0.00703947 ... 1.         0.00649063 0.00589967]\n",
            " [0.00676205 0.00664167 0.006485   ... 0.00649063 1.         0.00543498]\n",
            " [0.00614639 0.00603697 0.00589456 ... 0.00589967 0.00543498 1.        ]]\n"
          ],
          "name": "stdout"
        }
      ]
    },
    {
      "cell_type": "code",
      "metadata": {
        "id": "ie0l2ByNg3P3",
        "colab_type": "code",
        "colab": {
          "base_uri": "https://localhost:8080/",
          "height": 102
        },
        "outputId": "0dae372c-b9f4-461b-c8b1-9cd95d5abaa2"
      },
      "source": [
        "results = {} # dictionary created to store the result in a dictionary format (ID : (Score,item_id))\n",
        "\n",
        "for idx, row in df.iterrows(): # iterates through all the rows\n",
        "    # the below code 'similar_indice' stores similar ids based on cosine similarity. sorts them in ascending order. [:-5:-1] is then used so that the indices with most similarity are got. 0 means no similarity and 1 means perfect similarity\n",
        "    similar_indices = cosine_similarities[idx].argsort()[ : -5 : -1] # stores 5 most similar books, you can change it as per your needs\n",
        "    similar_items = [(cosine_similarities[idx][i], df['ID'][i]) for i in similar_indices]\n",
        "    results[row['ID']] = similar_items[1 : ]\n",
        "    \n",
        "# below code 'function item(id)' returns a row matching the id along with Book Title. Initially it is a dataframe, then we convert it to a list\n",
        "def item(id):\n",
        "    return df.loc[df['ID'] == id]['Title'].tolist()[0]\n",
        "\n",
        "def recommend(id, num):\n",
        "    if (num == 0):\n",
        "        print(\"Unable to recommend any book as you have not chosen the number of book to be recommended\")\n",
        "    elif (num == 1):\n",
        "        print(\"Recommending \" + str(num) + \" book similar to \" + item(id))\n",
        "    else :\n",
        "        print(\"Recommending \" + str(num) + \" books similar to \" + item(id))\n",
        "        \n",
        "    print(\"----------------------------------------------------------\")\n",
        "    recs = results[id][ : num]\n",
        "\n",
        "    for rec in recs:\n",
        "        print(\"You may also like to read: \" + item(rec[1]) + \" (score:\" + str(rec[0]) + \")\")\n",
        "\n",
        "# the first argument in the below function to be passed is the id of the book, second argument is the number of books you want to be recommended\n",
        "recommend(3,5)"
      ],
      "execution_count": 34,
      "outputs": [
        {
          "output_type": "stream",
          "text": [
            "Recommending 5 books similar to The Dark Knight\n",
            "----------------------------------------------------------\n",
            "You may also like to read: Batman Begins (score:0.48206693382120697)\n",
            "You may also like to read: The Prestige (score:0.44799557075377566)\n",
            "You may also like to read: The Dark Knight Rises (score:0.34547266248648856)\n"
          ],
          "name": "stdout"
        }
      ]
    }
  ]
}